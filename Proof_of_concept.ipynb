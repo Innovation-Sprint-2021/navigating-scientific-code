{
 "cells": [
  {
   "cell_type": "code",
   "execution_count": 1,
   "metadata": {},
   "outputs": [],
   "source": [
    "# so that we can live-edit Python modules\n",
    "%load_ext autoreload\n",
    "%autoreload 2"
   ]
  },
  {
   "cell_type": "code",
   "execution_count": 2,
   "metadata": {},
   "outputs": [],
   "source": [
    "# Please see https://ipywidgets.readthedocs.io/en/latest/examples/Widget%20Basics.html for introduction\n",
    "import ipywidgets as widgets"
   ]
  },
  {
   "cell_type": "markdown",
   "metadata": {},
   "source": [
    "## Choose the repository"
   ]
  },
  {
   "cell_type": "code",
   "execution_count": 4,
   "metadata": {},
   "outputs": [
    {
     "data": {
      "application/vnd.jupyter.widget-view+json": {
       "model_id": "e5ab3b617a914844a7f8e2d771bfb04a",
       "version_major": 2,
       "version_minor": 0
      },
      "text/plain": [
       "Text(value='')"
      ]
     },
     "metadata": {},
     "output_type": "display_data"
    },
    {
     "data": {
      "application/vnd.jupyter.widget-view+json": {
       "model_id": "76a05f2652224a3192ddf560065e0c7c",
       "version_major": 2,
       "version_minor": 0
      },
      "text/plain": [
       "Button(description='Analyze', style=ButtonStyle())"
      ]
     },
     "metadata": {},
     "output_type": "display_data"
    },
    {
     "data": {
      "application/vnd.jupyter.widget-view+json": {
       "model_id": "b68d20daff004beea27b315a17e9e739",
       "version_major": 2,
       "version_minor": 0
      },
      "text/plain": [
       "Output()"
      ]
     },
     "metadata": {},
     "output_type": "display_data"
    }
   ],
   "source": [
    "from IPython.display import display\n",
    "\n",
    "repository_field = widgets.Text()\n",
    "analyze_button = widgets.Button(description=\"Analyze\")\n",
    "output = widgets.Output()\n",
    "\n",
    "display(\n",
    "    repository_field, analyze_button, output\n",
    ")\n",
    "\n",
    "\n",
    "def on_download_button_clicked(b):\n",
    "    with output:\n",
    "        if not repository_field.value:\n",
    "            print('Please provide repository URL')\n",
    "            return\n",
    "        print(f\"Downloading: {repository_field.value}\")\n",
    "        # TODO create a temporary named directory, git clone in there\n",
    "        !wget {repository_field.value}\n",
    "\n",
    "\n",
    "analyze_button.on_click(on_download_button_clicked)"
   ]
  }
 ],
 "metadata": {
  "celltoolbar": "Edit Metadata",
  "kernelspec": {
   "display_name": "Python 3 (ipykernel)",
   "language": "python",
   "name": "python3"
  },
  "language_info": {
   "codemirror_mode": {
    "name": "ipython",
    "version": 3
   },
   "file_extension": ".py",
   "mimetype": "text/x-python",
   "name": "python",
   "nbconvert_exporter": "python",
   "pygments_lexer": "ipython3",
   "version": "3.9.7"
  }
 },
 "nbformat": 4,
 "nbformat_minor": 4
}

